{
 "cells": [
  {
   "cell_type": "markdown",
   "metadata": {},
   "source": [
    "# Gamers Performance Analysis"
   ]
  },
  {
   "cell_type": "code",
   "execution_count": 14,
   "metadata": {
    "collapsed": true
   },
   "outputs": [],
   "source": [
    "import os\n",
    "import pickle\n",
    "import numpy as np\n",
    "import pandas as pd\n",
    "import numpy.linalg as npla\n",
    "import matplotlib.pyplot as plt\n",
    "from sklearn.linear_model import LinearRegression, Ridge, Lasso, ElasticNet\n",
    "from sklearn.metrics import accuracy_score, log_loss\n",
    "%matplotlib inline"
   ]
  },
  {
   "cell_type": "code",
   "execution_count": 15,
   "metadata": {
    "collapsed": true
   },
   "outputs": [],
   "source": [
    "# Download dataset \"SkillCraft\"\n",
    "import requests\n",
    "link = \"http://archive.ics.uci.edu/ml/machine-learning-databases/00272/SkillCraft1_Dataset.csv\"\n",
    "f = requests.get(link)\n",
    "raw_data = [x.split(',') for x in f.text.replace('\"', '').split('\\n')]"
   ]
  },
  {
   "cell_type": "code",
   "execution_count": 16,
   "metadata": {},
   "outputs": [
    {
     "name": "stdout",
     "output_type": "stream",
     "text": [
      "Data size of X is:  (3338, 18)\n"
     ]
    }
   ],
   "source": [
    "# Clean data and extract X and y of data\n",
    "# Delete instances with fields unreadable as float (missing values).\n",
    "\n",
    "def isfloat(string):\n",
    "  try:\n",
    "    float(string)\n",
    "    return True\n",
    "  except ValueError:\n",
    "    return False\n",
    "\n",
    "field_name = raw_data[0]\n",
    "clean_data = [[float(y) for y in x] for x in raw_data[1:] if not False in [isfloat(y) for y in x]]\n",
    "data = np.matrix(clean_data)\n",
    "X = data[:,2:]\n",
    "y = data[:,1]\n",
    "X_field_name = field_name[2:]\n",
    "y_field_name = field_name[1]\n",
    "\n",
    "print('Data size of X is: ', X.shape)"
   ]
  },
  {
   "cell_type": "code",
   "execution_count": 17,
   "metadata": {},
   "outputs": [
    {
     "name": "stdout",
     "output_type": "stream",
     "text": [
      "The dataset is:\n",
      "\n"
     ]
    },
    {
     "data": {
      "text/html": [
       "<div>\n",
       "<style>\n",
       "    .dataframe thead tr:only-child th {\n",
       "        text-align: right;\n",
       "    }\n",
       "\n",
       "    .dataframe thead th {\n",
       "        text-align: left;\n",
       "    }\n",
       "\n",
       "    .dataframe tbody tr th {\n",
       "        vertical-align: top;\n",
       "    }\n",
       "</style>\n",
       "<table border=\"1\" class=\"dataframe\">\n",
       "  <thead>\n",
       "    <tr style=\"text-align: right;\">\n",
       "      <th></th>\n",
       "      <th>GameID</th>\n",
       "      <th>LeagueIndex</th>\n",
       "      <th>Age</th>\n",
       "      <th>HoursPerWeek</th>\n",
       "      <th>TotalHours</th>\n",
       "      <th>APM</th>\n",
       "      <th>SelectByHotkeys</th>\n",
       "      <th>AssignToHotkeys</th>\n",
       "      <th>UniqueHotkeys</th>\n",
       "      <th>MinimapAttacks</th>\n",
       "      <th>MinimapRightClicks</th>\n",
       "      <th>NumberOfPACs</th>\n",
       "      <th>GapBetweenPACs</th>\n",
       "      <th>ActionLatency</th>\n",
       "      <th>ActionsInPAC</th>\n",
       "      <th>TotalMapExplored</th>\n",
       "      <th>WorkersMade</th>\n",
       "      <th>UniqueUnitsMade</th>\n",
       "      <th>ComplexUnitsMade</th>\n",
       "      <th>ComplexAbilitiesUsed</th>\n",
       "    </tr>\n",
       "  </thead>\n",
       "  <tbody>\n",
       "    <tr>\n",
       "      <th>0</th>\n",
       "      <td>52.0</td>\n",
       "      <td>5.0</td>\n",
       "      <td>27.0</td>\n",
       "      <td>10.0</td>\n",
       "      <td>3000.0</td>\n",
       "      <td>143.7180</td>\n",
       "      <td>0.003515</td>\n",
       "      <td>0.000220</td>\n",
       "      <td>7.0</td>\n",
       "      <td>0.000110</td>\n",
       "      <td>0.000392</td>\n",
       "      <td>0.004849</td>\n",
       "      <td>32.6677</td>\n",
       "      <td>40.8673</td>\n",
       "      <td>4.7508</td>\n",
       "      <td>28.0</td>\n",
       "      <td>0.001397</td>\n",
       "      <td>6.0</td>\n",
       "      <td>0.0</td>\n",
       "      <td>0.000000</td>\n",
       "    </tr>\n",
       "    <tr>\n",
       "      <th>1</th>\n",
       "      <td>55.0</td>\n",
       "      <td>5.0</td>\n",
       "      <td>23.0</td>\n",
       "      <td>10.0</td>\n",
       "      <td>5000.0</td>\n",
       "      <td>129.2322</td>\n",
       "      <td>0.003304</td>\n",
       "      <td>0.000259</td>\n",
       "      <td>4.0</td>\n",
       "      <td>0.000294</td>\n",
       "      <td>0.000432</td>\n",
       "      <td>0.004307</td>\n",
       "      <td>32.9194</td>\n",
       "      <td>42.3454</td>\n",
       "      <td>4.8434</td>\n",
       "      <td>22.0</td>\n",
       "      <td>0.001193</td>\n",
       "      <td>5.0</td>\n",
       "      <td>0.0</td>\n",
       "      <td>0.000208</td>\n",
       "    </tr>\n",
       "    <tr>\n",
       "      <th>2</th>\n",
       "      <td>56.0</td>\n",
       "      <td>4.0</td>\n",
       "      <td>30.0</td>\n",
       "      <td>10.0</td>\n",
       "      <td>200.0</td>\n",
       "      <td>69.9612</td>\n",
       "      <td>0.001101</td>\n",
       "      <td>0.000336</td>\n",
       "      <td>4.0</td>\n",
       "      <td>0.000294</td>\n",
       "      <td>0.000461</td>\n",
       "      <td>0.002926</td>\n",
       "      <td>44.6475</td>\n",
       "      <td>75.3548</td>\n",
       "      <td>4.0430</td>\n",
       "      <td>22.0</td>\n",
       "      <td>0.000745</td>\n",
       "      <td>6.0</td>\n",
       "      <td>0.0</td>\n",
       "      <td>0.000189</td>\n",
       "    </tr>\n",
       "    <tr>\n",
       "      <th>3</th>\n",
       "      <td>57.0</td>\n",
       "      <td>3.0</td>\n",
       "      <td>19.0</td>\n",
       "      <td>20.0</td>\n",
       "      <td>400.0</td>\n",
       "      <td>107.6016</td>\n",
       "      <td>0.001034</td>\n",
       "      <td>0.000213</td>\n",
       "      <td>1.0</td>\n",
       "      <td>0.000053</td>\n",
       "      <td>0.000543</td>\n",
       "      <td>0.003783</td>\n",
       "      <td>29.2203</td>\n",
       "      <td>53.7352</td>\n",
       "      <td>4.9155</td>\n",
       "      <td>19.0</td>\n",
       "      <td>0.000426</td>\n",
       "      <td>7.0</td>\n",
       "      <td>0.0</td>\n",
       "      <td>0.000384</td>\n",
       "    </tr>\n",
       "    <tr>\n",
       "      <th>4</th>\n",
       "      <td>58.0</td>\n",
       "      <td>3.0</td>\n",
       "      <td>32.0</td>\n",
       "      <td>10.0</td>\n",
       "      <td>500.0</td>\n",
       "      <td>122.8908</td>\n",
       "      <td>0.001136</td>\n",
       "      <td>0.000327</td>\n",
       "      <td>2.0</td>\n",
       "      <td>0.000000</td>\n",
       "      <td>0.001329</td>\n",
       "      <td>0.002368</td>\n",
       "      <td>22.6885</td>\n",
       "      <td>62.0813</td>\n",
       "      <td>9.3740</td>\n",
       "      <td>15.0</td>\n",
       "      <td>0.001174</td>\n",
       "      <td>4.0</td>\n",
       "      <td>0.0</td>\n",
       "      <td>0.000019</td>\n",
       "    </tr>\n",
       "  </tbody>\n",
       "</table>\n",
       "</div>"
      ],
      "text/plain": [
       "   GameID  LeagueIndex   Age  HoursPerWeek  TotalHours       APM  \\\n",
       "0    52.0          5.0  27.0          10.0      3000.0  143.7180   \n",
       "1    55.0          5.0  23.0          10.0      5000.0  129.2322   \n",
       "2    56.0          4.0  30.0          10.0       200.0   69.9612   \n",
       "3    57.0          3.0  19.0          20.0       400.0  107.6016   \n",
       "4    58.0          3.0  32.0          10.0       500.0  122.8908   \n",
       "\n",
       "   SelectByHotkeys  AssignToHotkeys  UniqueHotkeys  MinimapAttacks  \\\n",
       "0         0.003515         0.000220            7.0        0.000110   \n",
       "1         0.003304         0.000259            4.0        0.000294   \n",
       "2         0.001101         0.000336            4.0        0.000294   \n",
       "3         0.001034         0.000213            1.0        0.000053   \n",
       "4         0.001136         0.000327            2.0        0.000000   \n",
       "\n",
       "   MinimapRightClicks  NumberOfPACs  GapBetweenPACs  ActionLatency  \\\n",
       "0            0.000392      0.004849         32.6677        40.8673   \n",
       "1            0.000432      0.004307         32.9194        42.3454   \n",
       "2            0.000461      0.002926         44.6475        75.3548   \n",
       "3            0.000543      0.003783         29.2203        53.7352   \n",
       "4            0.001329      0.002368         22.6885        62.0813   \n",
       "\n",
       "   ActionsInPAC  TotalMapExplored  WorkersMade  UniqueUnitsMade  \\\n",
       "0        4.7508              28.0     0.001397              6.0   \n",
       "1        4.8434              22.0     0.001193              5.0   \n",
       "2        4.0430              22.0     0.000745              6.0   \n",
       "3        4.9155              19.0     0.000426              7.0   \n",
       "4        9.3740              15.0     0.001174              4.0   \n",
       "\n",
       "   ComplexUnitsMade  ComplexAbilitiesUsed  \n",
       "0               0.0              0.000000  \n",
       "1               0.0              0.000208  \n",
       "2               0.0              0.000189  \n",
       "3               0.0              0.000384  \n",
       "4               0.0              0.000019  "
      ]
     },
     "execution_count": 17,
     "metadata": {},
     "output_type": "execute_result"
    }
   ],
   "source": [
    "# Show dataset\n",
    "import pandas as pd\n",
    "print('The dataset is:\\n')\n",
    "x = pd.DataFrame(data, columns=field_name)\n",
    "x.head()"
   ]
  },
  {
   "cell_type": "markdown",
   "metadata": {},
   "source": [
    "In order to verify the dataset, plot a scattered plot of league level and player APM.\n",
    "If the dataset is valid, player league level must be positively correlated with player APM.\n",
    "Since it is common sense that better players can perform higher APM.\n",
    "\n"
   ]
  },
  {
   "cell_type": "code",
   "execution_count": 18,
   "metadata": {},
   "outputs": [
    {
     "name": "stdout",
     "output_type": "stream",
     "text": [
      "[59.539276526946111, 74.780916829971176, 89.971259674502704, 105.84716633785449, 131.57833216417913, 158.68321111111109, 189.55568571428572]\n"
     ]
    },
    {
     "data": {
      "text/plain": [
       "Text(0,0.5,'APM')"
      ]
     },
     "execution_count": 18,
     "metadata": {},
     "output_type": "execute_result"
    },
    {
     "data": {
      "image/png": "[encoded data removed]",
      "text/plain": [
       "<matplotlib.figure.Figure at 0x108633588>"
      ]
     },
     "metadata": {},
     "output_type": "display_data"
    }
   ],
   "source": [
    "# In order to verify the dataset, plot a scattered plot of league level and player APM.\n",
    "# If the dataset is valid, player league level must be positively correlated with player APM.\n",
    "# Since it is common sense that better players can perform higher APM.\n",
    "\n",
    "import matplotlib.pyplot as plt\n",
    "league = np.array([i+1 for i in range(7)])\n",
    "apm = X[:, 3]\n",
    "avg_apm = [np.mean(apm[y==l]) for l in league]\n",
    "print(avg_apm)\n",
    "plt.plot(y, apm, 'o')\n",
    "plt.plot(league, avg_apm)\n",
    "plt.legend(['player APM', 'league average APM'])\n",
    "plt.xlabel('league')\n",
    "plt.ylabel('APM')"
   ]
  },
  {
   "cell_type": "markdown",
   "metadata": {},
   "source": [
    "> As shown in figure above, player APM is obviously positively correlated with player league.\n",
    "> Hence, this dataset seems to make sense."
   ]
  },
  {
   "cell_type": "code",
   "execution_count": 20,
   "metadata": {},
   "outputs": [
    {
     "name": "stdout",
     "output_type": "stream",
     "text": [
      "Proper alpha for Lasso model is selected as:  [ 0.00446684]\n"
     ]
    },
    {
     "data": {
      "image/png": "[encoded data removed]",
      "text/plain": [
       "<matplotlib.figure.Figure at 0x104395978>"
      ]
     },
     "metadata": {},
     "output_type": "display_data"
    }
   ],
   "source": [
    "# Use k-fold to select proper alpha for Lasso\n",
    "\n",
    "from sklearn.model_selection import train_test_split, GridSearchCV\n",
    "from sklearn.model_selection import KFold\n",
    "Xtrain, Xtest, ytrain, ytest = train_test_split(X, y, test_size=0.20, shuffle=True, random_state=1)\n",
    "kf = KFold(n_splits=20, shuffle=True, random_state=2)\n",
    "\n",
    "log_alpha_list = [-0.05*(i+30) for i in range(40)]\n",
    "avg_score_list = []\n",
    "for log_alpha in log_alpha_list:\n",
    "    alpha = 10**log_alpha\n",
    "    score_list = []\n",
    "    for train_index, valid_index in kf.split(Xtrain):\n",
    "        X_train = Xtrain[train_index]\n",
    "        y_train = ytrain[train_index]\n",
    "        X_valid = Xtrain[valid_index]\n",
    "        y_valid = ytrain[valid_index]\n",
    "        lss = Lasso(alpha=alpha, normalize=True)\n",
    "        lss.fit(X_train, y_train)\n",
    "        score_list.append(lss.score(X_valid, y_valid))\n",
    "    avg_score = np.mean(score_list)\n",
    "    avg_score_list.append(avg_score)\n",
    "\n",
    "plt.plot(log_alpha_list, avg_score_list)\n",
    "plt.xlabel('log alpha')\n",
    "plt.ylabel('average validation score')\n",
    "plt.title('log alpha VS validation score for alpha selection')\n",
    "\n",
    "log_alpha_selected = np.array(log_alpha_list)[np.array(avg_score_list)==max(avg_score_list)]\n",
    "alpha_selected = 10**log_alpha_selected\n",
    "print('Proper alpha for Lasso model is selected as: ', alpha_selected)"
   ]
  },
  {
   "cell_type": "markdown",
   "metadata": {
    "collapsed": true
   },
   "source": [
    "> As shown in figure above, validation score is highest when alpha equals to 0.00446684.\n",
    "> Hence choose alpha=0.00446684 as the hyperparameter in Lasso model."
   ]
  },
  {
   "cell_type": "code",
   "execution_count": 21,
   "metadata": {},
   "outputs": [
    {
     "name": "stdout",
     "output_type": "stream",
     "text": [
      "Out of 18 features, 12 features are selected in Lasso model to predict player league.\n",
      "Selected independent variables are:\n",
      "\n",
      "   HoursPerWeek       APM  SelectByHotkeys  AssignToHotkeys  UniqueHotkeys  \\\n",
      "0          10.0  143.7180         0.003515         0.000220            7.0   \n",
      "1          10.0  129.2322         0.003304         0.000259            4.0   \n",
      "2          10.0   69.9612         0.001101         0.000336            4.0   \n",
      "3          20.0  107.6016         0.001034         0.000213            1.0   \n",
      "4          10.0  122.8908         0.001136         0.000327            2.0   \n",
      "\n",
      "   MinimapAttacks  NumberOfPACs  GapBetweenPACs  ActionLatency  WorkersMade  \\\n",
      "0        0.000110      0.004849         32.6677        40.8673     0.001397   \n",
      "1        0.000294      0.004307         32.9194        42.3454     0.001193   \n",
      "2        0.000294      0.002926         44.6475        75.3548     0.000745   \n",
      "3        0.000053      0.003783         29.2203        53.7352     0.000426   \n",
      "4        0.000000      0.002368         22.6885        62.0813     0.001174   \n",
      "\n",
      "   UniqueUnitsMade  ComplexUnitsMade  \n",
      "0              6.0               0.0  \n",
      "1              5.0               0.0  \n",
      "2              6.0               0.0  \n",
      "3              7.0               0.0  \n",
      "4              4.0               0.0  \n"
     ]
    }
   ],
   "source": [
    "# Train Lasso model with whole training data and show selected features.\n",
    "\n",
    "lss = Lasso(alpha=alpha, normalize=True)\n",
    "lss.fit(Xtrain, ytrain)\n",
    "\n",
    "coef = lss.coef_\n",
    "selected_feature_sequence = np.array(range(len(coef)))[abs(coef)>(sum(abs(coef)*0.1**6))]\n",
    "print('Out of %s features, %s features are selected in Lasso model to predict player league.' \n",
    "      % (X.shape[1], len(selected_feature_sequence)))\n",
    "\n",
    "selected_field_name = np.array(X_field_name)[selected_feature_sequence]\n",
    "print('Selected independent variables are:\\n')\n",
    "print(pd.DataFrame(X[:,selected_feature_sequence], columns=selected_field_name)[:5])"
   ]
  },
  {
   "cell_type": "markdown",
   "metadata": {},
   "source": [
    "> As shown above, 12 features are selected by the Lasso model as meaningful for predicting the league of a player.\n",
    "> Features like \"APM\" and \"ActionLatency\" are selected as expected since they are suppose to be the hard skill of a good player.\n",
    "> And supprisingly, age is not selected as a valid feature, even though we all know that high age is bad for top players.\n",
    "> This could be because either age is irrelevant, or age is substituted by some other more meaningful features."
   ]
  },
  {
   "cell_type": "code",
   "execution_count": 23,
   "metadata": {},
   "outputs": [
    {
     "name": "stdout",
     "output_type": "stream",
     "text": [
      "The training score of Lasso for SkillCraft dataset is:  0.542563388127\n",
      "The testing score of Lasso for SkillCraft dataset is:  0.505533393251\n"
     ]
    }
   ],
   "source": [
    "# Now apply the trained Lasso model to untouched test data. And compare training score and test score.\n",
    "\n",
    "training_score = lss.score(Xtrain, ytrain)\n",
    "test_score = lss.score(Xtest, ytest)\n",
    "\n",
    "print('The training score of Lasso for SkillCraft dataset is: ', training_score)\n",
    "print('The testing score of Lasso for SkillCraft dataset is: ', test_score)"
   ]
  },
  {
   "cell_type": "markdown",
   "metadata": {},
   "source": [
    "The testing score (0.5055) is close to training score (0.5426).\n",
    "Hence, I assume a robust and reliable model is made for predicting player skill."
   ]
  }
 ],
 "metadata": {
  "anaconda-cloud": {},
  "kernelspec": {
   "display_name": "Python 3",
   "language": "python",
   "name": "python3"
  },
  "language_info": {
   "codemirror_mode": {
    "name": "ipython",
    "version": 3
   },
   "file_extension": ".py",
   "mimetype": "text/x-python",
   "name": "python",
   "nbconvert_exporter": "python",
   "pygments_lexer": "ipython3",
   "version": "3.6.3"
  }
 },
 "nbformat": 4,
 "nbformat_minor": 1
}
